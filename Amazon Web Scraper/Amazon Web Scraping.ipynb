{
 "cells": [
  {
   "cell_type": "code",
   "execution_count": 41,
   "metadata": {
    "collapsed": true
   },
   "outputs": [],
   "source": [
    "#import libraries\n",
    "\n",
    "from bs4 import BeautifulSoup \n",
    "import requests\n",
    "import time\n",
    "import datetime\n",
    "import pandas as pd \n",
    "import csv\n",
    "\n",
    "import smtplib #send mails to yourself\n",
    "\n"
   ]
  },
  {
   "cell_type": "code",
   "execution_count": 42,
   "metadata": {},
   "outputs": [
    {
     "name": "stdout",
     "output_type": "stream",
     "text": [
      "\n",
      "                   Harpa Women's A-Line Dress\n",
      "                  \n",
      "\n",
      "                    ₹594.00\n",
      "                   \n"
     ]
    }
   ],
   "source": [
    "# Connect to the website to get the data\n",
    "\n",
    "\n",
    "URL = 'https://www.amazon.in/Harpa-Womens-A-Line-Dress-GR3308-MULTI_XL/dp/B01FM7F6NG/ref=sr_1_6?dchild=1&keywords=dresses&qid=1631727219&sr=8-6'\n",
    "\n",
    "headers = {\"User-Agent\": \"Mozilla/5.0 (Windows NT 10.0; Win64; x64; rv:91.0) Gecko/20100101 Firefox/91.0\", \"Accept-Encoding\":\"gzip, deflate\", \"Accept\":\"text/html,application/xhtml+xml,application/xml;q=0.9,*/*;q=0.8\", \"DNT\":\"1\",\"Connection\":\"close\", \"Upgrade-Insecure-Requests\":\"1\"}\n",
    "\n",
    "page = requests.get(URL, headers=headers)\n",
    "\n",
    "soup1 = BeautifulSoup(page.content, \"html.parser\")\n",
    "\n",
    "soup2 = BeautifulSoup(soup1.prettify(), \"html.parser\")\n",
    "\n",
    "title = soup2.find(id='productTitle').get_text()\n",
    "\n",
    "price = soup2.find(id='priceblock_ourprice').get_text()\n",
    "\n",
    "\n",
    "print(title)\n",
    "print(price)"
   ]
  },
  {
   "cell_type": "code",
   "execution_count": 43,
   "metadata": {},
   "outputs": [
    {
     "name": "stdout",
     "output_type": "stream",
     "text": [
      "Harpa Women's A-Line Dress\n",
      "594.00\n"
     ]
    }
   ],
   "source": [
    "# Clean up the data\n",
    "\n",
    "price = price.strip()[1:]\n",
    "title = title.strip()\n",
    "\n",
    "print(title)\n",
    "print(price)"
   ]
  },
  {
   "cell_type": "code",
   "execution_count": 44,
   "metadata": {},
   "outputs": [
    {
     "name": "stdout",
     "output_type": "stream",
     "text": [
      "2021-09-15\n"
     ]
    }
   ],
   "source": [
    "#Create a Timestamp to track when data was collected\n",
    "\n",
    "import datetime\n",
    "\n",
    "today = datetime.date.today()\n",
    "print(today)"
   ]
  },
  {
   "cell_type": "code",
   "execution_count": 45,
   "metadata": {
    "collapsed": true
   },
   "outputs": [],
   "source": [
    "# Create CSV and write headers and data into the file\n",
    "\n",
    "header = ['Title', 'Price', 'Date']\n",
    "data = [title, price, today]\n",
    "\n",
    "\n",
    "#with open('AmazonWebScraperDataset1.csv', 'w', newline='', encoding='UTF8') as f:\n",
    "    #writer = csv.writer(f)\n",
    "    #writer.writerow(header)\n",
    "    #writer.writerow(data)"
   ]
  },
  {
   "cell_type": "code",
   "execution_count": 46,
   "metadata": {},
   "outputs": [
    {
     "name": "stdout",
     "output_type": "stream",
     "text": [
      "                          Title  Price        Date\n",
      "0    Harpa Women's A-Line Dress  594.0  2021-09-15\n",
      "1    Harpa Women's A-Line Dress  594.0  2021-09-15\n",
      "2    Harpa Women's A-Line Dress  594.0  2021-09-15\n",
      "3    Harpa Women's A-Line Dress  594.0  2021-09-15\n",
      "4    Harpa Women's A-Line Dress  594.0  2021-09-15\n",
      "5    Harpa Women's A-Line Dress  594.0  2021-09-15\n",
      "6    Harpa Women's A-Line Dress  594.0  2021-09-15\n",
      "7    Harpa Women's A-Line Dress  594.0  2021-09-15\n",
      "8    Harpa Women's A-Line Dress  594.0  2021-09-15\n",
      "9    Harpa Women's A-Line Dress  594.0  2021-09-15\n",
      "10   Harpa Women's A-Line Dress  594.0  2021-09-15\n",
      "11   Harpa Women's A-Line Dress  594.0  2021-09-15\n",
      "12   Harpa Women's A-Line Dress  594.0  2021-09-15\n",
      "13   Harpa Women's A-Line Dress  594.0  2021-09-15\n",
      "14   Harpa Women's A-Line Dress  594.0  2021-09-15\n",
      "15   Harpa Women's A-Line Dress  594.0  2021-09-15\n",
      "16   Harpa Women's A-Line Dress  594.0  2021-09-15\n",
      "17   Harpa Women's A-Line Dress  594.0  2021-09-15\n",
      "18   Harpa Women's A-Line Dress  594.0  2021-09-15\n",
      "19   Harpa Women's A-Line Dress  594.0  2021-09-15\n",
      "20   Harpa Women's A-Line Dress  594.0  2021-09-15\n",
      "21   Harpa Women's A-Line Dress  594.0  2021-09-15\n",
      "22   Harpa Women's A-Line Dress  594.0  2021-09-15\n",
      "23   Harpa Women's A-Line Dress  594.0  2021-09-15\n",
      "24   Harpa Women's A-Line Dress  594.0  2021-09-15\n",
      "25   Harpa Women's A-Line Dress  594.0  2021-09-15\n",
      "26   Harpa Women's A-Line Dress  594.0  2021-09-15\n",
      "27   Harpa Women's A-Line Dress  594.0  2021-09-15\n",
      "28   Harpa Women's A-Line Dress  594.0  2021-09-15\n",
      "29   Harpa Women's A-Line Dress  594.0  2021-09-15\n",
      "..                          ...    ...         ...\n",
      "183  Harpa Women's A-Line Dress  594.0  2021-09-15\n",
      "184  Harpa Women's A-Line Dress  594.0  2021-09-15\n",
      "185  Harpa Women's A-Line Dress  594.0  2021-09-15\n",
      "186  Harpa Women's A-Line Dress  594.0  2021-09-15\n",
      "187  Harpa Women's A-Line Dress  594.0  2021-09-15\n",
      "188  Harpa Women's A-Line Dress  594.0  2021-09-15\n",
      "189  Harpa Women's A-Line Dress  594.0  2021-09-15\n",
      "190  Harpa Women's A-Line Dress  594.0  2021-09-15\n",
      "191  Harpa Women's A-Line Dress  594.0  2021-09-15\n",
      "192  Harpa Women's A-Line Dress  594.0  2021-09-15\n",
      "193  Harpa Women's A-Line Dress  594.0  2021-09-15\n",
      "194  Harpa Women's A-Line Dress  594.0  2021-09-15\n",
      "195  Harpa Women's A-Line Dress  594.0  2021-09-15\n",
      "196  Harpa Women's A-Line Dress  594.0  2021-09-15\n",
      "197  Harpa Women's A-Line Dress  594.0  2021-09-15\n",
      "198  Harpa Women's A-Line Dress  594.0  2021-09-15\n",
      "199  Harpa Women's A-Line Dress  594.0  2021-09-15\n",
      "200  Harpa Women's A-Line Dress  594.0  2021-09-15\n",
      "201  Harpa Women's A-Line Dress  594.0  2021-09-15\n",
      "202  Harpa Women's A-Line Dress  594.0  2021-09-15\n",
      "203  Harpa Women's A-Line Dress  594.0  2021-09-15\n",
      "204  Harpa Women's A-Line Dress  594.0  2021-09-15\n",
      "205  Harpa Women's A-Line Dress  594.0  2021-09-15\n",
      "206  Harpa Women's A-Line Dress  594.0  2021-09-15\n",
      "207  Harpa Women's A-Line Dress  594.0  2021-09-15\n",
      "208  Harpa Women's A-Line Dress  594.0  2021-09-15\n",
      "209  Harpa Women's A-Line Dress  594.0  2021-09-15\n",
      "210  Harpa Women's A-Line Dress  594.0  2021-09-15\n",
      "211  Harpa Women's A-Line Dress  594.0  2021-09-15\n",
      "212  Harpa Women's A-Line Dress  594.0  2021-09-15\n",
      "\n",
      "[213 rows x 3 columns]\n"
     ]
    }
   ],
   "source": [
    "df = pd.read_csv(r'C:\\Users\\Shagun\\AmazonWebScraperDataset1.csv')\n",
    "\n",
    "print(df)"
   ]
  },
  {
   "cell_type": "code",
   "execution_count": 47,
   "metadata": {
    "collapsed": true
   },
   "outputs": [],
   "source": [
    "#Appending data to the csv\n",
    "\n",
    "with open('AmazonWebScraperDataset1.csv', 'a+', newline='', encoding='UTF8') as f:\n",
    "    writer = csv.writer(f)\n",
    "    writer.writerow(data)\n",
    "\n"
   ]
  },
  {
   "cell_type": "code",
   "execution_count": 48,
   "metadata": {
    "collapsed": true
   },
   "outputs": [],
   "source": [
    "#Combine all of the above code into one function\n",
    "\n",
    "\n",
    "def check_price():\n",
    "    URL = 'https://www.amazon.in/Harpa-Womens-A-Line-Dress-GR3308-MULTI_XL/dp/B01FM7F6NG/ref=sr_1_6?dchild=1&keywords=dresses&qid=1631727219&sr=8-6'\n",
    "\n",
    "    headers = {\"User-Agent\": \"Mozilla/5.0 (Windows NT 10.0; Win64; x64; rv:91.0) Gecko/20100101 Firefox/91.0\", \"Accept-Encoding\":\"gzip, deflate\", \"Accept\":\"text/html,application/xhtml+xml,application/xml;q=0.9,*/*;q=0.8\", \"DNT\":\"1\",\"Connection\":\"close\", \"Upgrade-Insecure-Requests\":\"1\"}\n",
    "    \n",
    "    page = requests.get(URL, headers=headers)\n",
    "\n",
    "    soup1 = BeautifulSoup(page.content, \"html.parser\")\n",
    "\n",
    "    soup2 = BeautifulSoup(soup1.prettify(), \"html.parser\")\n",
    "\n",
    "    title = soup2.find(id='productTitle').get_text()\n",
    "\n",
    "    price = soup2.find(id='priceblock_ourprice').get_text()\n",
    "\n",
    "    price = price.strip()[1:]\n",
    "    title = title.strip()\n",
    "\n",
    "    today = datetime.date.today()\n",
    "\n",
    "    header = ['Title', 'Price', 'Date']\n",
    "    data = [title, price, today]\n",
    "\n",
    "    with open('AmazonWebScraperDataset1.csv', 'a+', newline='', encoding='UTF8') as f:\n",
    "        writer = csv.writer(f)\n",
    "        writer.writerow(data)\n",
    "        \n",
    "    #if(int(price) < 14):\n",
    "        #send_mail"
   ]
  },
  {
   "cell_type": "code",
   "execution_count": null,
   "metadata": {
    "collapsed": true
   },
   "outputs": [],
   "source": [
    "# Runs check_price after a set time and inputs data into your CSV\n",
    "\n",
    "while(True):\n",
    "    check_price()\n",
    "    time.sleep(1)"
   ]
  },
  {
   "cell_type": "code",
   "execution_count": 49,
   "metadata": {},
   "outputs": [
    {
     "name": "stdout",
     "output_type": "stream",
     "text": [
      "                          Title  Price        Date\n",
      "0    Harpa Women's A-Line Dress  594.0  2021-09-15\n",
      "1    Harpa Women's A-Line Dress  594.0  2021-09-15\n",
      "2    Harpa Women's A-Line Dress  594.0  2021-09-15\n",
      "3    Harpa Women's A-Line Dress  594.0  2021-09-15\n",
      "4    Harpa Women's A-Line Dress  594.0  2021-09-15\n",
      "5    Harpa Women's A-Line Dress  594.0  2021-09-15\n",
      "6    Harpa Women's A-Line Dress  594.0  2021-09-15\n",
      "7    Harpa Women's A-Line Dress  594.0  2021-09-15\n",
      "8    Harpa Women's A-Line Dress  594.0  2021-09-15\n",
      "9    Harpa Women's A-Line Dress  594.0  2021-09-15\n",
      "10   Harpa Women's A-Line Dress  594.0  2021-09-15\n",
      "11   Harpa Women's A-Line Dress  594.0  2021-09-15\n",
      "12   Harpa Women's A-Line Dress  594.0  2021-09-15\n",
      "13   Harpa Women's A-Line Dress  594.0  2021-09-15\n",
      "14   Harpa Women's A-Line Dress  594.0  2021-09-15\n",
      "15   Harpa Women's A-Line Dress  594.0  2021-09-15\n",
      "16   Harpa Women's A-Line Dress  594.0  2021-09-15\n",
      "17   Harpa Women's A-Line Dress  594.0  2021-09-15\n",
      "18   Harpa Women's A-Line Dress  594.0  2021-09-15\n",
      "19   Harpa Women's A-Line Dress  594.0  2021-09-15\n",
      "20   Harpa Women's A-Line Dress  594.0  2021-09-15\n",
      "21   Harpa Women's A-Line Dress  594.0  2021-09-15\n",
      "22   Harpa Women's A-Line Dress  594.0  2021-09-15\n",
      "23   Harpa Women's A-Line Dress  594.0  2021-09-15\n",
      "24   Harpa Women's A-Line Dress  594.0  2021-09-15\n",
      "25   Harpa Women's A-Line Dress  594.0  2021-09-15\n",
      "26   Harpa Women's A-Line Dress  594.0  2021-09-15\n",
      "27   Harpa Women's A-Line Dress  594.0  2021-09-15\n",
      "28   Harpa Women's A-Line Dress  594.0  2021-09-15\n",
      "29   Harpa Women's A-Line Dress  594.0  2021-09-15\n",
      "..                          ...    ...         ...\n",
      "184  Harpa Women's A-Line Dress  594.0  2021-09-15\n",
      "185  Harpa Women's A-Line Dress  594.0  2021-09-15\n",
      "186  Harpa Women's A-Line Dress  594.0  2021-09-15\n",
      "187  Harpa Women's A-Line Dress  594.0  2021-09-15\n",
      "188  Harpa Women's A-Line Dress  594.0  2021-09-15\n",
      "189  Harpa Women's A-Line Dress  594.0  2021-09-15\n",
      "190  Harpa Women's A-Line Dress  594.0  2021-09-15\n",
      "191  Harpa Women's A-Line Dress  594.0  2021-09-15\n",
      "192  Harpa Women's A-Line Dress  594.0  2021-09-15\n",
      "193  Harpa Women's A-Line Dress  594.0  2021-09-15\n",
      "194  Harpa Women's A-Line Dress  594.0  2021-09-15\n",
      "195  Harpa Women's A-Line Dress  594.0  2021-09-15\n",
      "196  Harpa Women's A-Line Dress  594.0  2021-09-15\n",
      "197  Harpa Women's A-Line Dress  594.0  2021-09-15\n",
      "198  Harpa Women's A-Line Dress  594.0  2021-09-15\n",
      "199  Harpa Women's A-Line Dress  594.0  2021-09-15\n",
      "200  Harpa Women's A-Line Dress  594.0  2021-09-15\n",
      "201  Harpa Women's A-Line Dress  594.0  2021-09-15\n",
      "202  Harpa Women's A-Line Dress  594.0  2021-09-15\n",
      "203  Harpa Women's A-Line Dress  594.0  2021-09-15\n",
      "204  Harpa Women's A-Line Dress  594.0  2021-09-15\n",
      "205  Harpa Women's A-Line Dress  594.0  2021-09-15\n",
      "206  Harpa Women's A-Line Dress  594.0  2021-09-15\n",
      "207  Harpa Women's A-Line Dress  594.0  2021-09-15\n",
      "208  Harpa Women's A-Line Dress  594.0  2021-09-15\n",
      "209  Harpa Women's A-Line Dress  594.0  2021-09-15\n",
      "210  Harpa Women's A-Line Dress  594.0  2021-09-15\n",
      "211  Harpa Women's A-Line Dress  594.0  2021-09-15\n",
      "212  Harpa Women's A-Line Dress  594.0  2021-09-15\n",
      "213  Harpa Women's A-Line Dress  594.0  2021-09-15\n",
      "\n",
      "[214 rows x 3 columns]\n"
     ]
    }
   ],
   "source": [
    "df = pd.read_csv(r'C:\\Users\\Shagun\\AmazonWebScraperDataset1.csv')\n",
    "\n",
    "print(df)"
   ]
  },
  {
   "cell_type": "code",
   "execution_count": 50,
   "metadata": {
    "collapsed": true
   },
   "outputs": [],
   "source": [
    "\n",
    "#Mailing to notify when the product becomes available\n",
    "def send_mail():\n",
    "    server = smtplib.SMTP_SSL('smtp.gmail.com',465)\n",
    "    server.ehlo()\n",
    "    #server.starttls()\n",
    "    server.ehlo()\n",
    "    server.login('shagun.srivastav15@gmail.com','xxxxxxxxxxxxxx')\n",
    "    \n",
    "    subject = \"The moment you have been waiting for,Shagun!\"\n",
    "    body = \"Shagun, This is the moment we have been waiting for. Now is your chance to pick up the phone of your dreams. Don't mess it up! Link here: https://www.amazon.com/Funny-Data-Systems-Business-Analyst/dp/B07FNW9FGJ/ref=sr_1_3?dchild=1&keywords=data+analyst+tshirt&qid=1626655184&sr=8-3\"\n",
    "   \n",
    "    msg = f\"Subject: {subject}\\n\\n{body}\"\n",
    "    \n",
    "    server.sendmail(\n",
    "        'shagun.srivastav15@gmail.com',\n",
    "        msg\n",
    "     \n",
    "    )"
   ]
  }
 ],
 "metadata": {
  "kernelspec": {
   "display_name": "Python 3",
   "language": "python",
   "name": "python3"
  },
  "language_info": {
   "codemirror_mode": {
    "name": "ipython",
    "version": 3
   },
   "file_extension": ".py",
   "mimetype": "text/x-python",
   "name": "python",
   "nbconvert_exporter": "python",
   "pygments_lexer": "ipython3",
   "version": "3.6.3"
  }
 },
 "nbformat": 4,
 "nbformat_minor": 2
}
